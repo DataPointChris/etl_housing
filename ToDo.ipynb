{
 "cells": [
  {
   "cell_type": "markdown",
   "metadata": {},
   "source": [
    "# To - Do\n",
    "---\n",
    "\n",
    "## trulia_scrape.py\n",
    "\n",
    "- [x]  Remove formatting from scrape\n",
    "- [x]  Handle missing city from split in Pandas\n",
    "- [x]  Change scrape to functions\n",
    "- [x]  Create .py file for scrape\n",
    "- [x]  Set Linux Cron job for daily scrape\n",
    "- [ ]  Error handling in Pandas cleaning portion\n",
    "- [ ]  Create .py file for cleaning once error free\n",
    "- [ ]  Add cleaning to daily automated tasks\n",
    "- [ ]  break out of loop for connection error\n",
    "- [ ]  Airflow to do the automation of scrape, clean, (visualize?) and storage.\n",
    "\n",
    "\n",
    "## data_config.json\n",
    "\n",
    "- [ ]  scraped CSVs\n",
    "- [ ]  Description to file for NLP\n",
    "- [ ]  Details as dummy variables\n",
    "- [ ]  ML on set for price prediction\n",
    "\n",
    "\n",
    "## trulia_csv_to_nlp.ipynb\n",
    "\n",
    "- [ ]  change this file to separate and dump things\n",
    "- [ ]  API JSON \n",
    "- [ ]  Austin Real Estate Articles (MongoDB)\n",
    "- [ ]  Matplotlib Basemap for zip, and size for prices\n",
    "- [ ]  Blah\n",
    "\n",
    "\n",
    "## Project Files\n",
    "\n",
    "- [ ]  Mongo scrape\n",
    "- [ ]  SQL pulls practice\n",
    "- [ ]  Requirements for project\n",
    "- [ ]  Main program to run scraper and Mongo scraper\n",
    "\n",
    "\n",
    "## Additions\n",
    "\n",
    "- [ ]  Update Readme\n",
    "- [ ]  Dump data into MongoDB also?\n",
    "- [ ]  Find more sources of data\n",
    "- [ ]  SQL Stats\n",
    "\n",
    "\n",
    "## Problems / Issues / Lack of Knowledge\n",
    "\n",
    "- [ ]  How to keep track of apartment id across DB tables\n",
    "- [ ]  print string vs. return string for functions\n",
    "- [ ]  break statement"
   ]
  },
  {
   "cell_type": "markdown",
   "metadata": {},
   "source": []
  }
 ],
 "metadata": {
  "kernelspec": {
   "display_name": "Python 3",
   "language": "python",
   "name": "python3"
  },
  "language_info": {
   "codemirror_mode": {
    "name": "ipython",
    "version": 3
   },
   "file_extension": ".py",
   "mimetype": "text/x-python",
   "name": "python",
   "nbconvert_exporter": "python",
   "pygments_lexer": "ipython3",
   "version": "3.7.4"
  }
 },
 "nbformat": 4,
 "nbformat_minor": 2
}
