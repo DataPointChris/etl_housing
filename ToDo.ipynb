{
 "cells": [
  {
   "cell_type": "markdown",
   "metadata": {},
   "source": [
    "# To - Do\n",
    "---\n",
    "\n",
    "## Code\n",
    "\n",
    "- [ ] Remove formatting from scrape\n",
    "- [ ] Handle missing city from split in Pandas\n",
    "- [ ] Change scrape to functions\n",
    "- [ ] Create .py file for scrape\n",
    "- [ ] Set Linux Cron job for daily scrape\n",
    "- [ ] Error handling in Pandas cleaning portion\n",
    "- [ ] Create .py file for cleaning once error free\n",
    "- [ ] Add cleaning to daily automated tasks\n",
    "\n",
    "\n",
    "## Files / Description\n",
    "\n",
    "- [ ] Update Readme\n",
    "- [ ] SQL pulls practice\n",
    "\n",
    "\n",
    "## Additions\n",
    "\n",
    "- [ ] Update Readme\n",
    "- [ ] Dump data into MongoDB also?\n",
    "- [ ] Find more sources of data\n",
    "- [ ] SQL Stats\n",
    "- [ ] Description to file for NLP\n",
    "- [ ] Details as dummy variables\n",
    "- [ ] ML on set for price prediction\n",
    "\n"
   ]
  },
  {
   "cell_type": "code",
   "execution_count": null,
   "metadata": {},
   "outputs": [],
   "source": []
  }
 ],
 "metadata": {
  "kernelspec": {
   "display_name": "Python 3",
   "language": "python",
   "name": "python3"
  },
  "language_info": {
   "codemirror_mode": {
    "name": "ipython",
    "version": 3
   },
   "file_extension": ".py",
   "mimetype": "text/x-python",
   "name": "python",
   "nbconvert_exporter": "python",
   "pygments_lexer": "ipython3",
   "version": "3.7.4"
  }
 },
 "nbformat": 4,
 "nbformat_minor": 2
}
