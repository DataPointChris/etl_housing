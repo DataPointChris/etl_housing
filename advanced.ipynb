{
 "cells": [
  {
   "cell_type": "markdown",
   "metadata": {},
   "source": [
    "### JSON config"
   ]
  },
  {
   "cell_type": "code",
   "execution_count": null,
   "metadata": {},
   "outputs": [],
   "source": [
    "{\n",
    "\t\"data_sources\": {\n",
    "\t\t\"api\": {\n",
    "\t\t\t\"Pollution\": \"https://api.openaq.org/v1/latest?country=IN&limit=10000\",\n",
    "\t\t\t\"Economy\": \"https://api.data.gov.in/resource/07d49df4-233f-4898-92db-e6855d4dd94c?api-key=579b464db66ec23bdd000001cdd3946e44ce4aad7209ff7b23ac571b&format=json&offset=0&limit=100\"\n",
    "\t\t},\n",
    "\t\t\"csv\": {\n",
    "\t\t\t\"CryptoMarkets\": \"crypto-markets.csv\"\n",
    "\t\t}\n",
    "\t}\n",
    "}"
   ]
  },
  {
   "cell_type": "markdown",
   "metadata": {},
   "source": [
    "### DataSources"
   ]
  },
  {
   "cell_type": "code",
   "execution_count": null,
   "metadata": {},
   "outputs": [],
   "source": [
    "class Extract:\n",
    "    \n",
    "    def __init__(self):\n",
    "        self.data_sources = json.load(open('data_config.json'))\n",
    "        self.api = self.data_sources['data_sources']['api']\n",
    "        self.csv_path = self.data_sources['data_sources']['csv']\n",
    "    \n",
    "    \n",
    "    def getAPISData(self, api_name):\n",
    "        api_url = self.api[api_name]\n",
    "        response = requests.get(api_url)\n",
    "        return response.json()\n",
    "\n",
    "    \n",
    "    def getCSVData(self, csv_name):\n",
    "        csv_data = []\n",
    "        csv_reader = csv.reader(open(self.csv_path[csv_name], 'r'))\n",
    "        for row in csv_reader:\n",
    "            csv_data.append(row)\n",
    "        return csv_data\n",
    "    \n",
    "    \n",
    "    def databases(self, db_name):\n",
    "        pass\n",
    "        "
   ]
  },
  {
   "cell_type": "markdown",
   "metadata": {},
   "source": [
    "### Transformation"
   ]
  },
  {
   "cell_type": "code",
   "execution_count": null,
   "metadata": {},
   "outputs": [],
   "source": [
    "from DataSources import Extract\n",
    "from DataLoad import MongoDB\n",
    "import urllib\n",
    "import pandas as pd\n",
    "\n",
    "class Transformation:\n",
    "    \n",
    "    def __init__(self, dataSource, dataSet):\n",
    "        print('Inside')\n",
    "        extractObj = Extract()\n",
    "        if dataSource == 'api':\n",
    "            self.data = extractObj.getAPISData(dataSet)\n",
    "            funcName = dataSource+dataSet\n",
    "            getattr(self, funcName)()\n",
    "        elif dataSource == 'csv':\n",
    "            self.data = extractObj.getCSVData(dataSet)\n",
    "            funcName = dataSource+dataSet\n",
    "            getattr(self, funcName)()\n",
    "        else:\n",
    "            self.data = extractObj.databases(dataSet)\n",
    "    \n",
    "    \n",
    "    def apiEconomy(self):\n",
    "        gdp_india = {}\n",
    "        for record in self.data['records']:\n",
    "        # insert into MongoDB like apiPollution\n",
    "        \n",
    "        \n",
    "    def apiPollution(self):\n",
    "        air_data = self.data['results']\n",
    "        #\n",
    "        # there was stuff here\n",
    "        #\n",
    "        mongoDB_obj = MongoDB(urllib.parse.quote_plus('root'), urllib.parse.quote_plus('password'), 'host', 'Pollution_Data')\n",
    "        # Insert Data into MongoDB\n",
    "        mongoDB_obj.insert_into_db(df, 'Air_Quality_India')\n",
    "\n",
    "    def csvCryptoMarkets(self):\n",
    "            print('Please Code me !!!!')\n",
    "\n",
    "    \n",
    "if __name__ == '__main__':\n",
    "    dataSource = input(\"Please Select the DataSource i.e 'API'/'CSV'/'Database': \").lower()\n",
    "    print(dataSource)\n",
    "    dataSet = input('Please select the Data set for Transformation: ').title()\n",
    "    print(dataSet)\n",
    "    trans_obj = Transformation(dataSource, dataSet)\n",
    "    \n",
    "    "
   ]
  },
  {
   "cell_type": "markdown",
   "metadata": {},
   "source": [
    "### Main\n",
    "\n",
    "This is to automate it"
   ]
  },
  {
   "cell_type": "code",
   "execution_count": null,
   "metadata": {},
   "outputs": [],
   "source": [
    "from Transformation import Transformation\n",
    "import json\n",
    "\n",
    "class Engine:\n",
    "    \n",
    "    def __init__(self, dataSource, dataSet):\n",
    "        trans_obj = Transformation(dataSource, dataSet)\n",
    "        \n",
    "        \n",
    "if __name__ == '__main__':\n",
    "    \n",
    "    etl_data = json.load(open('data_config.json'))\n",
    "    for dataSource, dataSet in etl_data['data_sources'].items():\n",
    "        print(dataSource)\n",
    "        for data in dataSet:\n",
    "            print(data)\n",
    "            main_obj = Engine(dataSource, data)"
   ]
  },
  {
   "cell_type": "code",
   "execution_count": null,
   "metadata": {},
   "outputs": [],
   "source": []
  },
  {
   "cell_type": "code",
   "execution_count": null,
   "metadata": {},
   "outputs": [],
   "source": []
  },
  {
   "cell_type": "code",
   "execution_count": null,
   "metadata": {},
   "outputs": [],
   "source": []
  },
  {
   "cell_type": "markdown",
   "metadata": {},
   "source": [
    "### DataLoad"
   ]
  },
  {
   "cell_type": "code",
   "execution_count": null,
   "metadata": {},
   "outputs": [],
   "source": [
    "from pymongo import MongoClient\n",
    "import pandas as pd\n",
    "\n",
    "class MongoDB:\n",
    "\n",
    "    def __init__(self, user, password, host, db_name ,port='27017', authSource='admin'):\n",
    "        self.user = user\n",
    "        self.password = password\n",
    "        self.host = host\n",
    "        self.port = port\n",
    "        self.db_name = db_name\n",
    "        self.authSource = authSource\n",
    "        self.uri = f'mongodb://{self.user}:{self.password}@{self.host}:{self.port}/{self.db_name}?authSource={self.authSource}'\n",
    "        try:\n",
    "            self.client = MongoClient(self.uri)\n",
    "            self.db = self.client[self.db_name]\n",
    "            print('MongoDB Connection Successful. CHEERS!!!')\n",
    "        except Exception as e:\n",
    "            print('Connection Unsuccessful!! ERROR!!')\n",
    "            print(e)\n",
    "\n",
    "\n",
    "    def insert_into_db(self, data, collection):\n",
    "        if isinstance(data, pd.DataFrame):\n",
    "            try:\n",
    "                self.db[collection].insert_many(data.to_dict('records'))\n",
    "                print('Data Inserted Successfully')\n",
    "            except Exception as e:\n",
    "                print('OOPS!! Some ERROR Occurred')\n",
    "                print(e)\n",
    "            finally:\n",
    "                self.client.close()\n",
    "                print('Connection Closed!!!')\n",
    "        else:\n",
    "            try:\n",
    "                self.db[collection].insert_one(data)\n",
    "                print('Data Inserted Successfully')\n",
    "            except Exception as e:\n",
    "                print('OOPS!! Some ERROR Occurred')\n",
    "                print(e)\n",
    "            finally:\n",
    "                self.client.close()\n",
    "                print('Connection Closed!!!')"
   ]
  },
  {
   "cell_type": "code",
   "execution_count": null,
   "metadata": {},
   "outputs": [],
   "source": []
  },
  {
   "cell_type": "code",
   "execution_count": null,
   "metadata": {},
   "outputs": [],
   "source": []
  },
  {
   "cell_type": "code",
   "execution_count": null,
   "metadata": {},
   "outputs": [],
   "source": []
  },
  {
   "cell_type": "code",
   "execution_count": null,
   "metadata": {},
   "outputs": [],
   "source": []
  },
  {
   "cell_type": "code",
   "execution_count": null,
   "metadata": {},
   "outputs": [],
   "source": []
  }
 ],
 "metadata": {
  "kernelspec": {
   "display_name": "Python 3",
   "language": "python",
   "name": "python3"
  },
  "language_info": {
   "codemirror_mode": {
    "name": "ipython",
    "version": 3
   },
   "file_extension": ".py",
   "mimetype": "text/x-python",
   "name": "python",
   "nbconvert_exporter": "python",
   "pygments_lexer": "ipython3",
   "version": "3.7.4"
  }
 },
 "nbformat": 4,
 "nbformat_minor": 2
}
