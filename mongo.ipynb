{
 "cells": [
  {
   "cell_type": "markdown",
   "metadata": {},
   "source": [
    "Adapted from RealPython tutorial:\n",
    "https://realpython.com/introduction-to-mongodb-and-python/"
   ]
  },
  {
   "cell_type": "code",
   "execution_count": 20,
   "metadata": {},
   "outputs": [],
   "source": [
    "import pymongo\n",
    "from pymongo import MongoClient\n",
    "import mongoengine\n",
    "import datetime"
   ]
  },
  {
   "cell_type": "code",
   "execution_count": 4,
   "metadata": {},
   "outputs": [],
   "source": [
    "client = MongoClient()\n",
    "db = client.pymongo_test\n",
    "posts = db.posts"
   ]
  },
  {
   "cell_type": "code",
   "execution_count": 5,
   "metadata": {},
   "outputs": [],
   "source": [
    "post_data = {\n",
    "    'title': 'Python and MongoDB',\n",
    "    'content': 'PyMongo is fun, you guys',\n",
    "    'author': 'Scott'\n",
    "}"
   ]
  },
  {
   "cell_type": "code",
   "execution_count": null,
   "metadata": {},
   "outputs": [],
   "source": [
    "result = posts.insert_one(post_data)"
   ]
  },
  {
   "cell_type": "code",
   "execution_count": 8,
   "metadata": {},
   "outputs": [
    {
     "name": "stdout",
     "output_type": "stream",
     "text": [
      "One post: 5e25ce47e7ea5fce378f1c06\n"
     ]
    }
   ],
   "source": [
    "print(f'One post: {result.inserted_id}')"
   ]
  },
  {
   "cell_type": "code",
   "execution_count": 33,
   "metadata": {},
   "outputs": [],
   "source": [
    "post_1 = {\n",
    "    'title': 'Python and MongoDB',\n",
    "    'content': 'PyMongo is fun, you guys',\n",
    "    'author': 'Scott'\n",
    "}\n",
    "post_2 = {\n",
    "    'title': 'Virtual Environments',\n",
    "    'content': 'Use virtual environments, you guys',\n",
    "    'author': 'Scott'\n",
    "}\n",
    "post_3 = {\n",
    "    'title': 'Learning Python',\n",
    "    'content': 'Learn Python, it is easy',\n",
    "    'author': 'Bill'\n",
    "}"
   ]
  },
  {
   "cell_type": "code",
   "execution_count": 10,
   "metadata": {},
   "outputs": [],
   "source": [
    "new_result = posts.insert_many([post_1, post_2, post_3])"
   ]
  },
  {
   "cell_type": "code",
   "execution_count": 12,
   "metadata": {},
   "outputs": [
    {
     "name": "stdout",
     "output_type": "stream",
     "text": [
      "Multiple posts: [ObjectId('5e25cef8e7ea5fce378f1c07'), ObjectId('5e25cef8e7ea5fce378f1c08'), ObjectId('5e25cef8e7ea5fce378f1c09')]\n"
     ]
    }
   ],
   "source": [
    "print(f'Multiple posts: {new_result.inserted_ids}')"
   ]
  },
  {
   "cell_type": "code",
   "execution_count": 13,
   "metadata": {},
   "outputs": [
    {
     "name": "stdout",
     "output_type": "stream",
     "text": [
      "{'_id': ObjectId('5e25cef8e7ea5fce378f1c09'), 'title': 'Learning Python', 'content': 'Learn Python, it is easy', 'author': 'Bill'}\n"
     ]
    }
   ],
   "source": [
    "posts_by_bill = posts.find_one({'author': 'Bill'})\n",
    "print(posts_by_bill)"
   ]
  },
  {
   "cell_type": "code",
   "execution_count": 14,
   "metadata": {},
   "outputs": [],
   "source": [
    "posts_by_scott = posts.find({'author': 'Scott'})"
   ]
  },
  {
   "cell_type": "code",
   "execution_count": 15,
   "metadata": {},
   "outputs": [
    {
     "name": "stdout",
     "output_type": "stream",
     "text": [
      "<pymongo.cursor.Cursor object at 0x7fa260665a10>\n"
     ]
    }
   ],
   "source": [
    "print(posts_by_scott)"
   ]
  },
  {
   "cell_type": "code",
   "execution_count": 16,
   "metadata": {},
   "outputs": [
    {
     "name": "stdout",
     "output_type": "stream",
     "text": [
      "{'_id': ObjectId('5e25ce47e7ea5fce378f1c06'), 'title': 'Python and MongoDB', 'content': 'PyMongo is fun, you guys', 'author': 'Scott'}\n",
      "{'_id': ObjectId('5e25cef8e7ea5fce378f1c07'), 'title': 'Python and MongoDB', 'content': 'PyMongo is fun, you guys', 'author': 'Scott'}\n",
      "{'_id': ObjectId('5e25cef8e7ea5fce378f1c08'), 'title': 'Virtual Environments', 'content': 'Use virtual environments, you guys', 'author': 'Scott'}\n"
     ]
    }
   ],
   "source": [
    "for post in posts_by_scott:\n",
    "    print(post)"
   ]
  },
  {
   "cell_type": "code",
   "execution_count": 19,
   "metadata": {},
   "outputs": [
    {
     "data": {
      "text/plain": [
       "MongoClient(host=['localhost:27017'], document_class=dict, tz_aware=False, connect=True, read_preference=Primary())"
      ]
     },
     "execution_count": 19,
     "metadata": {},
     "output_type": "execute_result"
    }
   ],
   "source": [
    "mongoengine.connect('mongoengine_test', host='localhost', port=27017)"
   ]
  },
  {
   "cell_type": "code",
   "execution_count": 25,
   "metadata": {},
   "outputs": [],
   "source": [
    "class Post(mongoengine.Document):\n",
    "    title = mongoengine.StringField(required=True, max_length=200)\n",
    "    content = mongoengine.StringField(required=True)\n",
    "    author = mongoengine.StringField(required=True, max_length=50)\n",
    "    published = mongoengine.DateTimeField(default=datetime.datetime.now)"
   ]
  },
  {
   "cell_type": "code",
   "execution_count": 26,
   "metadata": {},
   "outputs": [
    {
     "data": {
      "text/plain": [
       "<Post: Post object>"
      ]
     },
     "execution_count": 26,
     "metadata": {},
     "output_type": "execute_result"
    }
   ],
   "source": [
    "enginepost_1 = Post(\n",
    "    title='Sample Post',\n",
    "    content='This is some awesome content',\n",
    "    author='Scott'\n",
    "    )\n",
    "enginepost_1.save()"
   ]
  },
  {
   "cell_type": "code",
   "execution_count": 28,
   "metadata": {},
   "outputs": [
    {
     "name": "stdout",
     "output_type": "stream",
     "text": [
      "Sample Post\n"
     ]
    }
   ],
   "source": [
    "print(enginepost_1.title)"
   ]
  },
  {
   "cell_type": "code",
   "execution_count": 30,
   "metadata": {},
   "outputs": [
    {
     "data": {
      "text/plain": [
       "<Post: Post object>"
      ]
     },
     "execution_count": 30,
     "metadata": {},
     "output_type": "execute_result"
    }
   ],
   "source": [
    "enginepost_1.title = 'A Much Better Post Title'\n",
    "enginepost_1.save()"
   ]
  },
  {
   "cell_type": "code",
   "execution_count": 31,
   "metadata": {},
   "outputs": [
    {
     "name": "stdout",
     "output_type": "stream",
     "text": [
      "A Much Better Post Title\n"
     ]
    }
   ],
   "source": [
    "print(enginepost_1.title)"
   ]
  },
  {
   "cell_type": "markdown",
   "metadata": {},
   "source": []
  },
  {
   "cell_type": "code",
   "execution_count": null,
   "metadata": {},
   "outputs": [],
   "source": []
  },
  {
   "cell_type": "code",
   "execution_count": null,
   "metadata": {},
   "outputs": [],
   "source": []
  },
  {
   "cell_type": "code",
   "execution_count": null,
   "metadata": {},
   "outputs": [],
   "source": []
  }
 ],
 "metadata": {
  "kernelspec": {
   "display_name": "Python 3",
   "language": "python",
   "name": "python3"
  },
  "language_info": {
   "codemirror_mode": {
    "name": "ipython",
    "version": 3
   },
   "file_extension": ".py",
   "mimetype": "text/x-python",
   "name": "python",
   "nbconvert_exporter": "python",
   "pygments_lexer": "ipython3",
   "version": "3.7.4"
  }
 },
 "nbformat": 4,
 "nbformat_minor": 2
}
