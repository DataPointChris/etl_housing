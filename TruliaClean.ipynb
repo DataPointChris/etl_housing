{
 "cells": [
  {
   "cell_type": "code",
   "execution_count": 868,
   "metadata": {},
   "outputs": [],
   "source": [
    "import numpy as np\n",
    "import pandas as pd\n",
    "import sqlite3"
   ]
  },
  {
   "cell_type": "code",
   "execution_count": 869,
   "metadata": {},
   "outputs": [],
   "source": [
    "df = None\n",
    "df2 = None"
   ]
  },
  {
   "cell_type": "code",
   "execution_count": 870,
   "metadata": {},
   "outputs": [],
   "source": [
    "table = 'apartments'"
   ]
  },
  {
   "cell_type": "code",
   "execution_count": 871,
   "metadata": {},
   "outputs": [],
   "source": [
    "all_columns = ['apt_id', 'name', 'address', 'unit', 'sqft', 'bed', 'bath', 'price', 'city', 'state', 'zip_code', 'description', 'details', 'url', 'date']"
   ]
  },
  {
   "cell_type": "code",
   "execution_count": 872,
   "metadata": {},
   "outputs": [],
   "source": [
    "columns = ['apt_id', 'name', 'address', 'sqft', 'bed', 'bath', 'price', 'zip_code']"
   ]
  },
  {
   "cell_type": "code",
   "execution_count": 873,
   "metadata": {},
   "outputs": [],
   "source": [
    "conn = sqlite3.connect('housing.db')\n",
    "cur = conn.cursor()\n",
    "\n",
    "statement = 'SELECT ' + ', '.join(all_columns) + f' FROM {table}'\n",
    "\n",
    "cur.execute(statement)\n",
    "\n",
    "data = cur.fetchall()\n",
    "\n",
    "conn.commit()\n",
    "\n",
    "conn.close()"
   ]
  },
  {
   "cell_type": "code",
   "execution_count": 874,
   "metadata": {
    "scrolled": true
   },
   "outputs": [],
   "source": [
    "if df is None:\n",
    "    df = pd.DataFrame(data, columns=all_columns)\n",
    "\n",
    "\n",
    "else:\n",
    "    df2 = pd.DataFrame(data, columns=all_columns)\n",
    "\n",
    "    df = df.append(df2)\n"
   ]
  },
  {
   "cell_type": "code",
   "execution_count": 875,
   "metadata": {},
   "outputs": [],
   "source": [
    "df.replace(' ', '', inplace=True) # whitespace to blank\n",
    "df.replace('', np.nan, inplace=True) # blank to NaN\n",
    "df.dropna(inplace=True) # drop NaN rows\n",
    "\n",
    "df.sqft = df.sqft.str.replace('sqft','').str.replace(',','').str.strip()\n",
    "\n",
    "df.price = df.price.str.replace('$','').str.replace(',','').str.strip()\n",
    "\n",
    "df.bath = df.bath.str.replace('ba','').str.strip()\n",
    "\n",
    "df.bed = df.bed.str.replace('bd','').str.lower().replace('studio',0).str.strip()\n",
    "\n",
    "df.bed = df.bed.replace(np.nan, 0)\n",
    "\n",
    "df = df[~df.price.str.contains('-', na=False)]\n",
    "\n",
    "df = df.astype({'sqft': 'int32', 'price': 'int32', 'bath': 'float32', 'bed': 'float32'})"
   ]
  },
  {
   "cell_type": "code",
   "execution_count": 876,
   "metadata": {
    "scrolled": true
   },
   "outputs": [
    {
     "name": "stdout",
     "output_type": "stream",
     "text": [
      "<class 'pandas.core.frame.DataFrame'>\n",
      "Int64Index: 11513856 entries, 0 to 11525051\n",
      "Data columns (total 15 columns):\n",
      "apt_id         int64\n",
      "name           object\n",
      "address        object\n",
      "unit           object\n",
      "sqft           int32\n",
      "bed            float32\n",
      "bath           float32\n",
      "price          int32\n",
      "city           object\n",
      "state          object\n",
      "zip_code       int64\n",
      "description    object\n",
      "details        object\n",
      "url            object\n",
      "date           object\n",
      "dtypes: float32(2), int32(2), int64(2), object(9)\n",
      "memory usage: 1.2+ GB\n"
     ]
    }
   ],
   "source": [
    "df.info()"
   ]
  },
  {
   "cell_type": "code",
   "execution_count": 877,
   "metadata": {},
   "outputs": [],
   "source": [
    "df.to_csv('rentals.csv')"
   ]
  },
  {
   "cell_type": "code",
   "execution_count": 878,
   "metadata": {},
   "outputs": [],
   "source": [
    "df.drop(columns='apt_id').to_sql(name='apartments', con=sqlite3.connect('housing.db'), if_exists='append', index=False)"
   ]
  },
  {
   "cell_type": "code",
   "execution_count": null,
   "metadata": {},
   "outputs": [],
   "source": []
  },
  {
   "cell_type": "code",
   "execution_count": null,
   "metadata": {},
   "outputs": [],
   "source": []
  },
  {
   "cell_type": "code",
   "execution_count": null,
   "metadata": {},
   "outputs": [],
   "source": []
  },
  {
   "cell_type": "code",
   "execution_count": null,
   "metadata": {},
   "outputs": [],
   "source": []
  }
 ],
 "metadata": {
  "kernelspec": {
   "display_name": "Python 3",
   "language": "python",
   "name": "python3"
  },
  "language_info": {
   "codemirror_mode": {
    "name": "ipython",
    "version": 3
   },
   "file_extension": ".py",
   "mimetype": "text/x-python",
   "name": "python",
   "nbconvert_exporter": "python",
   "pygments_lexer": "ipython3",
   "version": "3.7.4"
  }
 },
 "nbformat": 4,
 "nbformat_minor": 2
}
