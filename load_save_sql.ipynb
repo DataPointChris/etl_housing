{
 "cells": [
  {
   "cell_type": "code",
   "execution_count": 1,
   "metadata": {},
   "outputs": [],
   "source": [
    "import numpy as np\n",
    "import pandas as pd\n",
    "import sqlite3"
   ]
  },
  {
   "cell_type": "code",
   "execution_count": 2,
   "metadata": {},
   "outputs": [],
   "source": [
    "df = None\n",
    "df2 = None"
   ]
  },
  {
   "cell_type": "code",
   "execution_count": 3,
   "metadata": {},
   "outputs": [],
   "source": [
    "table = 'apartments'"
   ]
  },
  {
   "cell_type": "code",
   "execution_count": 4,
   "metadata": {},
   "outputs": [],
   "source": [
    "all_columns = ['apt_id', 'name', 'address', 'unit', 'sqft', 'bed', 'bath', 'price', 'city', 'state', 'zip_code', 'description', 'details', 'url', 'date']"
   ]
  },
  {
   "cell_type": "code",
   "execution_count": 5,
   "metadata": {},
   "outputs": [],
   "source": [
    "columns = ['apt_id', 'name', 'address', 'sqft', 'bed', 'bath', 'price', 'zip_code']"
   ]
  },
  {
   "cell_type": "code",
   "execution_count": 6,
   "metadata": {},
   "outputs": [],
   "source": [
    "conn = sqlite3.connect('housing.db')\n",
    "cur = conn.cursor()\n",
    "\n",
    "statement = 'SELECT ' + ', '.join(all_columns) + f' FROM {table}'\n",
    "\n",
    "cur.execute(statement)\n",
    "\n",
    "data = cur.fetchall()\n",
    "\n",
    "conn.commit()\n",
    "\n",
    "conn.close()"
   ]
  },
  {
   "cell_type": "code",
   "execution_count": 7,
   "metadata": {
    "scrolled": true
   },
   "outputs": [],
   "source": [
    "if df is None:\n",
    "    df = pd.DataFrame(data, columns=all_columns)\n",
    "\n",
    "\n",
    "else:\n",
    "    df2 = pd.DataFrame(data, columns=all_columns)\n",
    "\n",
    "    df = df.append(df2)\n"
   ]
  },
  {
   "cell_type": "code",
   "execution_count": 8,
   "metadata": {},
   "outputs": [
    {
     "output_type": "execute_result",
     "data": {
      "text/plain": [
       "    apt_id                       name               address            unit  \\\n",
       "0        1   8400 Beech DR Apartments         8400 Beech Dr  1 Bed 1.0 Bath   \n",
       "1        2   8400 Beech DR Apartments         8400 Beech Dr        Unit 210   \n",
       "2        3   8400 Beech DR Apartments         8400 Beech Dr  2 Bed 1.0 Bath   \n",
       "3        4   8400 Beech DR Apartments         8400 Beech Dr        Unit 101   \n",
       "4        5       The Sofia Apartments  2201 Willow Creek Dr         11A-SOF   \n",
       "..     ...                        ...                   ...             ...   \n",
       "73      74  Dobie Twenty21 Apartments     2021 Guadalupe St           JANIS   \n",
       "74      75  Dobie Twenty21 Apartments     2021 Guadalupe St         HOLIDAY   \n",
       "75      76  Dobie Twenty21 Apartments     2021 Guadalupe St            CASH   \n",
       "76      77  Dobie Twenty21 Apartments     2021 Guadalupe St           DYLAN   \n",
       "77      78  Dobie Twenty21 Apartments     2021 Guadalupe St          WILLIE   \n",
       "\n",
       "          sqft     bed bath            price    city state  zip_code  \\\n",
       "0     525 sqft     1bd  1ba             $850  Austin    TX     78758   \n",
       "1     525 sqft     1bd  1ba             $850  Austin    TX     78758   \n",
       "2   1,050 sqft     2bd  1ba           $1,050  Austin    TX     78758   \n",
       "3   1,050 sqft     2bd  1ba           $1,050  Austin    TX     78758   \n",
       "4     554 sqft     1bd  1ba             $925  Austin    TX     78741   \n",
       "..         ...     ...  ...              ...     ...   ...       ...   \n",
       "73    290 sqft  Studio  1ba  $1,150 - $2,000  Austin    TX     78705   \n",
       "74    490 sqft  Studio  1ba  $1,420 - $2,540  Austin    TX     78705   \n",
       "75    792 sqft     2bd  2ba    $853 - $1,498  Austin    TX     78705   \n",
       "76    887 sqft     2bd  2ba    $849 - $1,600  Austin    TX     78705   \n",
       "77    887 sqft     2bd  2ba    $849 - $1,650  Austin    TX     78705   \n",
       "\n",
       "                                          description  \\\n",
       "0              Please contact us for leasing details.   \n",
       "1              Please contact us for leasing details.   \n",
       "2              Please contact us for leasing details.   \n",
       "3              Please contact us for leasing details.   \n",
       "4   Sofia Apartments is a newly renovated apartmen...   \n",
       "..                                                ...   \n",
       "73  Dobie Twenty21 Student Spaces is the only priv...   \n",
       "74  Dobie Twenty21 Student Spaces is the only priv...   \n",
       "75  Dobie Twenty21 Student Spaces is the only priv...   \n",
       "76  Dobie Twenty21 Student Spaces is the only priv...   \n",
       "77  Dobie Twenty21 Student Spaces is the only priv...   \n",
       "\n",
       "                                              details  \\\n",
       "0             Apartment ,Built in 1968 ,Deposit: $300   \n",
       "1             Apartment ,Built in 1968 ,Deposit: $300   \n",
       "2             Apartment ,Built in 1968 ,Deposit: $300   \n",
       "3             Apartment ,Built in 1968 ,Deposit: $300   \n",
       "4   Apartment ,Cats, small dogs, large dogs allowe...   \n",
       "..                                                ...   \n",
       "73  Apartment ,No pets allowed ,Built in 1972 ,Ren...   \n",
       "74  Apartment ,No pets allowed ,Built in 1972 ,Ren...   \n",
       "75  Apartment ,No pets allowed ,Built in 1972 ,Ren...   \n",
       "76  Apartment ,No pets allowed ,Built in 1972 ,Ren...   \n",
       "77  Apartment ,No pets allowed ,Built in 1972 ,Ren...   \n",
       "\n",
       "                                                  url        date  \n",
       "0   https://www.trulia.com/c/tx/austin/8400-beech-...  2020-01-08  \n",
       "1   https://www.trulia.com/c/tx/austin/8400-beech-...  2020-01-08  \n",
       "2   https://www.trulia.com/c/tx/austin/8400-beech-...  2020-01-08  \n",
       "3   https://www.trulia.com/c/tx/austin/8400-beech-...  2020-01-08  \n",
       "4   https://www.trulia.com/c/tx/austin/the-sofia-2...  2020-01-08  \n",
       "..                                                ...         ...  \n",
       "73  https://www.trulia.com/c/tx/austin/dobie-twent...  2020-01-08  \n",
       "74  https://www.trulia.com/c/tx/austin/dobie-twent...  2020-01-08  \n",
       "75  https://www.trulia.com/c/tx/austin/dobie-twent...  2020-01-08  \n",
       "76  https://www.trulia.com/c/tx/austin/dobie-twent...  2020-01-08  \n",
       "77  https://www.trulia.com/c/tx/austin/dobie-twent...  2020-01-08  \n",
       "\n",
       "[78 rows x 15 columns]"
      ],
      "text/html": "<div>\n<style scoped>\n    .dataframe tbody tr th:only-of-type {\n        vertical-align: middle;\n    }\n\n    .dataframe tbody tr th {\n        vertical-align: top;\n    }\n\n    .dataframe thead th {\n        text-align: right;\n    }\n</style>\n<table border=\"1\" class=\"dataframe\">\n  <thead>\n    <tr style=\"text-align: right;\">\n      <th></th>\n      <th>apt_id</th>\n      <th>name</th>\n      <th>address</th>\n      <th>unit</th>\n      <th>sqft</th>\n      <th>bed</th>\n      <th>bath</th>\n      <th>price</th>\n      <th>city</th>\n      <th>state</th>\n      <th>zip_code</th>\n      <th>description</th>\n      <th>details</th>\n      <th>url</th>\n      <th>date</th>\n    </tr>\n  </thead>\n  <tbody>\n    <tr>\n      <th>0</th>\n      <td>1</td>\n      <td>8400 Beech DR Apartments</td>\n      <td>8400 Beech Dr</td>\n      <td>1 Bed 1.0 Bath</td>\n      <td>525 sqft</td>\n      <td>1bd</td>\n      <td>1ba</td>\n      <td>$850</td>\n      <td>Austin</td>\n      <td>TX</td>\n      <td>78758</td>\n      <td>Please contact us for leasing details.</td>\n      <td>Apartment ,Built in 1968 ,Deposit: $300</td>\n      <td>https://www.trulia.com/c/tx/austin/8400-beech-...</td>\n      <td>2020-01-08</td>\n    </tr>\n    <tr>\n      <th>1</th>\n      <td>2</td>\n      <td>8400 Beech DR Apartments</td>\n      <td>8400 Beech Dr</td>\n      <td>Unit 210</td>\n      <td>525 sqft</td>\n      <td>1bd</td>\n      <td>1ba</td>\n      <td>$850</td>\n      <td>Austin</td>\n      <td>TX</td>\n      <td>78758</td>\n      <td>Please contact us for leasing details.</td>\n      <td>Apartment ,Built in 1968 ,Deposit: $300</td>\n      <td>https://www.trulia.com/c/tx/austin/8400-beech-...</td>\n      <td>2020-01-08</td>\n    </tr>\n    <tr>\n      <th>2</th>\n      <td>3</td>\n      <td>8400 Beech DR Apartments</td>\n      <td>8400 Beech Dr</td>\n      <td>2 Bed 1.0 Bath</td>\n      <td>1,050 sqft</td>\n      <td>2bd</td>\n      <td>1ba</td>\n      <td>$1,050</td>\n      <td>Austin</td>\n      <td>TX</td>\n      <td>78758</td>\n      <td>Please contact us for leasing details.</td>\n      <td>Apartment ,Built in 1968 ,Deposit: $300</td>\n      <td>https://www.trulia.com/c/tx/austin/8400-beech-...</td>\n      <td>2020-01-08</td>\n    </tr>\n    <tr>\n      <th>3</th>\n      <td>4</td>\n      <td>8400 Beech DR Apartments</td>\n      <td>8400 Beech Dr</td>\n      <td>Unit 101</td>\n      <td>1,050 sqft</td>\n      <td>2bd</td>\n      <td>1ba</td>\n      <td>$1,050</td>\n      <td>Austin</td>\n      <td>TX</td>\n      <td>78758</td>\n      <td>Please contact us for leasing details.</td>\n      <td>Apartment ,Built in 1968 ,Deposit: $300</td>\n      <td>https://www.trulia.com/c/tx/austin/8400-beech-...</td>\n      <td>2020-01-08</td>\n    </tr>\n    <tr>\n      <th>4</th>\n      <td>5</td>\n      <td>The Sofia Apartments</td>\n      <td>2201 Willow Creek Dr</td>\n      <td>11A-SOF</td>\n      <td>554 sqft</td>\n      <td>1bd</td>\n      <td>1ba</td>\n      <td>$925</td>\n      <td>Austin</td>\n      <td>TX</td>\n      <td>78741</td>\n      <td>Sofia Apartments is a newly renovated apartmen...</td>\n      <td>Apartment ,Cats, small dogs, large dogs allowe...</td>\n      <td>https://www.trulia.com/c/tx/austin/the-sofia-2...</td>\n      <td>2020-01-08</td>\n    </tr>\n    <tr>\n      <th>...</th>\n      <td>...</td>\n      <td>...</td>\n      <td>...</td>\n      <td>...</td>\n      <td>...</td>\n      <td>...</td>\n      <td>...</td>\n      <td>...</td>\n      <td>...</td>\n      <td>...</td>\n      <td>...</td>\n      <td>...</td>\n      <td>...</td>\n      <td>...</td>\n      <td>...</td>\n    </tr>\n    <tr>\n      <th>73</th>\n      <td>74</td>\n      <td>Dobie Twenty21 Apartments</td>\n      <td>2021 Guadalupe St</td>\n      <td>JANIS</td>\n      <td>290 sqft</td>\n      <td>Studio</td>\n      <td>1ba</td>\n      <td>$1,150 - $2,000</td>\n      <td>Austin</td>\n      <td>TX</td>\n      <td>78705</td>\n      <td>Dobie Twenty21 Student Spaces is the only priv...</td>\n      <td>Apartment ,No pets allowed ,Built in 1972 ,Ren...</td>\n      <td>https://www.trulia.com/c/tx/austin/dobie-twent...</td>\n      <td>2020-01-08</td>\n    </tr>\n    <tr>\n      <th>74</th>\n      <td>75</td>\n      <td>Dobie Twenty21 Apartments</td>\n      <td>2021 Guadalupe St</td>\n      <td>HOLIDAY</td>\n      <td>490 sqft</td>\n      <td>Studio</td>\n      <td>1ba</td>\n      <td>$1,420 - $2,540</td>\n      <td>Austin</td>\n      <td>TX</td>\n      <td>78705</td>\n      <td>Dobie Twenty21 Student Spaces is the only priv...</td>\n      <td>Apartment ,No pets allowed ,Built in 1972 ,Ren...</td>\n      <td>https://www.trulia.com/c/tx/austin/dobie-twent...</td>\n      <td>2020-01-08</td>\n    </tr>\n    <tr>\n      <th>75</th>\n      <td>76</td>\n      <td>Dobie Twenty21 Apartments</td>\n      <td>2021 Guadalupe St</td>\n      <td>CASH</td>\n      <td>792 sqft</td>\n      <td>2bd</td>\n      <td>2ba</td>\n      <td>$853 - $1,498</td>\n      <td>Austin</td>\n      <td>TX</td>\n      <td>78705</td>\n      <td>Dobie Twenty21 Student Spaces is the only priv...</td>\n      <td>Apartment ,No pets allowed ,Built in 1972 ,Ren...</td>\n      <td>https://www.trulia.com/c/tx/austin/dobie-twent...</td>\n      <td>2020-01-08</td>\n    </tr>\n    <tr>\n      <th>76</th>\n      <td>77</td>\n      <td>Dobie Twenty21 Apartments</td>\n      <td>2021 Guadalupe St</td>\n      <td>DYLAN</td>\n      <td>887 sqft</td>\n      <td>2bd</td>\n      <td>2ba</td>\n      <td>$849 - $1,600</td>\n      <td>Austin</td>\n      <td>TX</td>\n      <td>78705</td>\n      <td>Dobie Twenty21 Student Spaces is the only priv...</td>\n      <td>Apartment ,No pets allowed ,Built in 1972 ,Ren...</td>\n      <td>https://www.trulia.com/c/tx/austin/dobie-twent...</td>\n      <td>2020-01-08</td>\n    </tr>\n    <tr>\n      <th>77</th>\n      <td>78</td>\n      <td>Dobie Twenty21 Apartments</td>\n      <td>2021 Guadalupe St</td>\n      <td>WILLIE</td>\n      <td>887 sqft</td>\n      <td>2bd</td>\n      <td>2ba</td>\n      <td>$849 - $1,650</td>\n      <td>Austin</td>\n      <td>TX</td>\n      <td>78705</td>\n      <td>Dobie Twenty21 Student Spaces is the only priv...</td>\n      <td>Apartment ,No pets allowed ,Built in 1972 ,Ren...</td>\n      <td>https://www.trulia.com/c/tx/austin/dobie-twent...</td>\n      <td>2020-01-08</td>\n    </tr>\n  </tbody>\n</table>\n<p>78 rows × 15 columns</p>\n</div>"
     },
     "metadata": {},
     "execution_count": 8
    }
   ],
   "source": [
    "df"
   ]
  },
  {
   "cell_type": "code",
   "execution_count": 876,
   "metadata": {
    "scrolled": true
   },
   "outputs": [
    {
     "name": "stdout",
     "output_type": "stream",
     "text": [
      "<class 'pandas.core.frame.DataFrame'>\n",
      "Int64Index: 11513856 entries, 0 to 11525051\n",
      "Data columns (total 15 columns):\n",
      "apt_id         int64\n",
      "name           object\n",
      "address        object\n",
      "unit           object\n",
      "sqft           int32\n",
      "bed            float32\n",
      "bath           float32\n",
      "price          int32\n",
      "city           object\n",
      "state          object\n",
      "zip_code       int64\n",
      "description    object\n",
      "details        object\n",
      "url            object\n",
      "date           object\n",
      "dtypes: float32(2), int32(2), int64(2), object(9)\n",
      "memory usage: 1.2+ GB\n"
     ]
    }
   ],
   "source": [
    "df.info()"
   ]
  },
  {
   "cell_type": "code",
   "execution_count": 877,
   "metadata": {},
   "outputs": [],
   "source": [
    "df.to_csv('rentals.csv')"
   ]
  },
  {
   "cell_type": "code",
   "execution_count": 878,
   "metadata": {},
   "outputs": [],
   "source": [
    "df.drop(columns='apt_id').to_sql(name='apartments', con=sqlite3.connect('housing.db'), if_exists='append', index=False)"
   ]
  },
  {
   "cell_type": "code",
   "execution_count": null,
   "metadata": {},
   "outputs": [],
   "source": []
  },
  {
   "cell_type": "code",
   "execution_count": null,
   "metadata": {},
   "outputs": [],
   "source": []
  },
  {
   "cell_type": "code",
   "execution_count": null,
   "metadata": {},
   "outputs": [],
   "source": []
  },
  {
   "cell_type": "code",
   "execution_count": null,
   "metadata": {},
   "outputs": [],
   "source": []
  }
 ],
 "metadata": {
  "kernelspec": {
   "display_name": "Python 3",
   "language": "python",
   "name": "python3"
  },
  "language_info": {
   "codemirror_mode": {
    "name": "ipython",
    "version": 3
   },
   "file_extension": ".py",
   "mimetype": "text/x-python",
   "name": "python",
   "nbconvert_exporter": "python",
   "pygments_lexer": "ipython3",
   "version": "3.8.2-final"
  }
 },
 "nbformat": 4,
 "nbformat_minor": 2
}